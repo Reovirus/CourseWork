{
 "cells": [
  {
   "cell_type": "code",
   "execution_count": 9,
   "metadata": {},
   "outputs": [
    {
     "name": "stdout",
     "output_type": "stream",
     "text": [
      "INFO: Pandarallel will run on 16 workers.\n",
      "INFO: Pandarallel will use Memory file system to transfer data between the main process and workers.\n"
     ]
    }
   ],
   "source": [
    "import pandas as pd\n",
    "from tqdm import tqdm\n",
    "tqdm.pandas()\n",
    "\n",
    "from pandarallel import pandarallel\n",
    "pandarallel.initialize(progress_bar=True)\n",
    "import numpy as np\n",
    "\n",
    "import matplotlib.pyplot as plt\n",
    "import matplotlib.gridspec as gridspec\n",
    "\n",
    "from multiprocessing import Process\n",
    "from Bio.Seq import Seq\n",
    "from Bio import SeqIO\n",
    "from multiprocessing import Pool"
   ]
  },
  {
   "cell_type": "code",
   "execution_count": 10,
   "metadata": {},
   "outputs": [],
   "source": [
    "modelnames = ['xgb_trans_07:22:39_4_GSM4041595_K562_rep2.hg38_250_1', 'xgb_clusters_10:24:55_4_try4_250_1']\n",
    "experiments = ['GSM4041591_K562_rep1_add.hg38', 'GSM4041593_K562_rep1.hg38', 'GSM4041595_K562_rep2.hg38']\n",
    "cell_type = 'K562'"
   ]
  },
  {
   "cell_type": "code",
   "execution_count": 11,
   "metadata": {},
   "outputs": [],
   "source": [
    "model_preds = {}"
   ]
  },
  {
   "cell_type": "code",
   "execution_count": 12,
   "metadata": {},
   "outputs": [],
   "source": [
    "for modelname in modelnames:\n",
    "    tables = []\n",
    "    for i in experiments:\n",
    "        tables.append(pd.read_csv(f'/home/pitikovegor/CourseWork/genomes/reds_experiments/K562/parsed_contacts_{i}/predict_{modelname}.tsv', sep = '\\t', header = None))\n",
    "    all_preds = pd.concat(tables)\n",
    "    del tables\n",
    "    model_preds[modelname] = all_preds"
   ]
  },
  {
   "cell_type": "code",
   "execution_count": 13,
   "metadata": {},
   "outputs": [
    {
     "data": {
      "text/plain": [
       "dict_keys(['xgb_trans_07:22:39_4_GSM4041595_K562_rep2.hg38_250_1', 'xgb_clusters_10:24:55_4_try4_250_1'])"
      ]
     },
     "execution_count": 13,
     "metadata": {},
     "output_type": "execute_result"
    }
   ],
   "source": [
    "model_preds.keys()"
   ]
  },
  {
   "cell_type": "code",
   "execution_count": 14,
   "metadata": {},
   "outputs": [],
   "source": [
    "good_preds = {}"
   ]
  },
  {
   "cell_type": "code",
   "execution_count": 15,
   "metadata": {},
   "outputs": [],
   "source": [
    "for modelname in modelnames:\n",
    "    good_pred = model_preds[modelname][model_preds[modelname][2]>0.8]\n",
    "    good_preds[modelname]= good_pred\n",
    "    del good_pred"
   ]
  },
  {
   "cell_type": "code",
   "execution_count": 16,
   "metadata": {
    "scrolled": true
   },
   "outputs": [],
   "source": [
    "good_preds['xgb_clusters_10:24:55_4_try4_250_1'] = model_preds['xgb_clusters_10:24:55_4_try4_250_1'][model_preds['xgb_clusters_10:24:55_4_try4_250_1'][2]>0.99998]"
   ]
  },
  {
   "cell_type": "code",
   "execution_count": 17,
   "metadata": {},
   "outputs": [
    {
     "data": {
      "text/plain": [
       "{'xgb_trans_07:22:39_4_GSM4041595_K562_rep2.hg38_250_1':                                                 0         1         2\n",
       " 646        D00795:28:C99BVACXX:7:1109:13547:21719  0.151441  0.848559\n",
       " 20226       D00795:28:C99BVACXX:7:1115:5342:28058  0.193058  0.806942\n",
       " 23645     D00795:28:C99BVACXX:7:1115:12015:100513  0.188985  0.811015\n",
       " 25552       D00795:28:C99BVACXX:7:1116:2900:41883  0.149212  0.850788\n",
       " 27656      D00795:28:C99BVACXX:7:1116:15591:83570  0.128948  0.871052\n",
       " ...                                           ...       ...       ...\n",
       " 22067308     D00795:30:CA2UTANXX:5:1305:2910:9222  0.098569  0.901432\n",
       " 22073232    D00795:30:CA2UTANXX:5:1210:8167:79111  0.148740  0.851260\n",
       " 22075530   D00795:30:CA2UTANXX:5:1211:14005:80690  0.160440  0.839560\n",
       " 22111781   D00795:30:CA2UTANXX:5:2310:10169:70837  0.192341  0.807659\n",
       " 22115685   D00795:30:CA2UTANXX:5:2316:17538:94952  0.166956  0.833044\n",
       " \n",
       " [5509 rows x 3 columns],\n",
       " 'xgb_clusters_10:24:55_4_try4_250_1':                                                0         1         2\n",
       " 696655     D00795:28:C99BVACXX:7:1109:11785:3603  0.000010  0.999990\n",
       " 696681     D00795:28:C99BVACXX:7:1109:15137:3894  0.000012  0.999988\n",
       " 696805     D00795:28:C99BVACXX:7:1109:11547:5948  0.000010  0.999990\n",
       " 696896      D00795:28:C99BVACXX:7:1109:3012:7461  0.000010  0.999990\n",
       " 699031    D00795:28:C99BVACXX:7:1109:20190:40839  0.000010  0.999990\n",
       " ...                                          ...       ...       ...\n",
       " 11219502  D00795:30:CA2UTANXX:5:2316:10730:15590  0.000019  0.999981\n",
       " 11219648  D00795:30:CA2UTANXX:5:2316:14749:22780  0.000020  0.999980\n",
       " 11219762   D00795:30:CA2UTANXX:5:2316:5178:39954  0.000019  0.999981\n",
       " 11219861  D00795:30:CA2UTANXX:5:2316:18364:52818  0.000017  0.999982\n",
       " 11220719  D00795:30:CA2UTANXX:5:2316:12664:94831  0.000018  0.999982\n",
       " \n",
       " [6311 rows x 3 columns]}"
      ]
     },
     "execution_count": 17,
     "metadata": {},
     "output_type": "execute_result"
    }
   ],
   "source": [
    "good_preds "
   ]
  },
  {
   "cell_type": "code",
   "execution_count": 18,
   "metadata": {},
   "outputs": [],
   "source": [
    "coninfo = pd.read_csv(f'/home/pitikovegor/CourseWork/genomes/reds_experiments/{cell_type}/all_parsed/all_table.tsv', sep='\\t')"
   ]
  },
  {
   "cell_type": "code",
   "execution_count": 19,
   "metadata": {},
   "outputs": [],
   "source": [
    "def seq_cutter(sequence, position, chain, window = 0):\n",
    "    if chain=='+':\n",
    "        return str(sequence[max(0, position[0]+1-window) : min(position[1]+1+window, len(sequence))])\n",
    "    else:\n",
    "        return str(sequence[max(0, position[0]+1-window) : min(position[1]+1+window, len(sequence))].reverse_complement())\n",
    "def open_fasta (name):\n",
    "    for record in SeqIO.parse(name, \"fasta\"): # It's a FUCKING GENERATOR!!!!!!! I need in 1st - all of the rest is alternatively\n",
    "        chr_seq = record.seq\n",
    "        del record\n",
    "        return chr_seq\n",
    "def all_to_con(sequence, con_table):\n",
    "    chr_seq = open_fasta(sequence)\n",
    "    if not con_table.empty:\n",
    "        con_table = con_table.apply(lambda x: [x[0], seq_cutter(chr_seq, x[2:4], x[4]), 0, 0, 0], raw = True, axis = 1, result_type='expand')\n",
    "    con_table.rename(columns = {'rna_chr':'contact_seq'}, inplace = True)\n",
    "    return con_table[['id', 'contact_seq']]"
   ]
  },
  {
   "cell_type": "code",
   "execution_count": 20,
   "metadata": {},
   "outputs": [],
   "source": [
    "con_params = {}\n",
    "for modelname in modelnames:\n",
    "    good_param = coninfo[coninfo['id'].isin(good_preds[modelname].loc[:, 0])][['id', 'rna_chr', 'rna_bgn', 'rna_end', 'rna_strand']]\n",
    "    con_params[modelname]= good_param\n",
    "    del good_param"
   ]
  },
  {
   "cell_type": "code",
   "execution_count": 21,
   "metadata": {},
   "outputs": [],
   "source": [
    "del model_preds\n",
    "del good_preds"
   ]
  },
  {
   "cell_type": "code",
   "execution_count": 22,
   "metadata": {},
   "outputs": [],
   "source": [
    "del coninfo"
   ]
  },
  {
   "cell_type": "code",
   "execution_count": 23,
   "metadata": {},
   "outputs": [
    {
     "data": {
      "text/plain": [
       "{'xgb_trans_07:22:39_4_GSM4041595_K562_rep2.hg38_250_1':                                               id rna_chr    rna_bgn  \\\n",
       " 139        D00795:30:CA2UTANXX:1:1207:7121:93342   chr19   58353438   \n",
       " 309       D00795:28:C99BVACXX:8:1106:13168:79882   chr12   53307238   \n",
       " 778       D00795:28:C99BVACXX:8:1313:11590:67129   chr12  125068696   \n",
       " 2697      D00795:28:C99BVACXX:7:2304:12703:56768   chr12  125132328   \n",
       " 15401     D00795:28:C99BVACXX:7:1215:13922:63384    chr4     441369   \n",
       " ...                                          ...     ...        ...   \n",
       " 33974358   D00795:28:C99BVACXX:7:2210:6463:80418   chr18   35276003   \n",
       " 33974359  D00795:30:CA2UTANXX:1:1105:12374:34586   chr18   35276058   \n",
       " 33974360  D00795:28:C99BVACXX:8:2201:19808:70894   chr18   35276068   \n",
       " 33976898    D00795:28:C99BVACXX:7:1116:2103:6529   chr19   56287376   \n",
       " 34000487   D00795:30:CA2UTANXX:1:1205:8242:13488    chr1   52860837   \n",
       " \n",
       "             rna_end rna_strand  \n",
       " 139        58355683          +  \n",
       " 309        53309309          -  \n",
       " 778       125070810          +  \n",
       " 2697      125134438          +  \n",
       " 15401        443461          -  \n",
       " ...             ...        ...  \n",
       " 33974358   35278089          -  \n",
       " 33974359   35278140          -  \n",
       " 33974360   35278140          -  \n",
       " 33976898   56289398          -  \n",
       " 34000487   52862868          +  \n",
       " \n",
       " [4389 rows x 5 columns],\n",
       " 'xgb_clusters_10:24:55_4_try4_250_1':                                               id rna_chr   rna_bgn   rna_end  \\\n",
       " 11302227  D00795:30:CA2UTANXX:1:1215:12061:60833   chr21   8391593   8439374   \n",
       " 11302405   D00795:30:CA2UTANXX:5:1211:6859:38076   chr21   8391657   8402886   \n",
       " 11302407  D00795:30:CA2UTANXX:1:1113:13361:67729   chr21   8391657   8439291   \n",
       " 11302464  D00795:30:CA2UTANXX:1:1110:17641:51703   chr21   8391658   8401750   \n",
       " 11303545   D00795:30:CA2UTANXX:5:1213:1561:70468   chr21   8391662   8402162   \n",
       " ...                                          ...     ...       ...       ...   \n",
       " 16925075  D00795:30:CA2UTANXX:5:2109:17918:40590   chr11  65500684  65504239   \n",
       " 16925076  D00795:28:C99BVACXX:7:1302:19073:89708   chr11  65500684  65504245   \n",
       " 16955665   D00795:28:C99BVACXX:7:1213:6922:43727   chr11  65500920  65504513   \n",
       " 16984005   D00795:30:CA2UTANXX:5:1209:6815:26485   chr11  65501180  65504683   \n",
       " 17165778   D00795:30:CA2UTANXX:1:1105:7588:74348   chr11  65502706  65506316   \n",
       " \n",
       "          rna_strand  \n",
       " 11302227          +  \n",
       " 11302405          +  \n",
       " 11302407          +  \n",
       " 11302464          +  \n",
       " 11303545          +  \n",
       " ...             ...  \n",
       " 16925075          +  \n",
       " 16925076          +  \n",
       " 16955665          +  \n",
       " 16984005          +  \n",
       " 17165778          +  \n",
       " \n",
       " [6297 rows x 5 columns]}"
      ]
     },
     "execution_count": 23,
     "metadata": {},
     "output_type": "execute_result"
    }
   ],
   "source": [
    "con_params"
   ]
  },
  {
   "cell_type": "code",
   "execution_count": 24,
   "metadata": {},
   "outputs": [],
   "source": [
    "chr_names=['chrX', 'chrY']\n",
    "for i in range(1, 23):\n",
    "    chr_names.append('chr%d' % (i))\n",
    "sequence_path = '/home/pitikovegor/CourseWork/genomes/chr_sequence'"
   ]
  },
  {
   "cell_type": "code",
   "execution_count": 25,
   "metadata": {},
   "outputs": [
    {
     "data": {
      "text/plain": [
       "dict_keys(['xgb_trans_07:22:39_4_GSM4041595_K562_rep2.hg38_250_1', 'xgb_clusters_10:24:55_4_try4_250_1'])"
      ]
     },
     "execution_count": 25,
     "metadata": {},
     "output_type": "execute_result"
    }
   ],
   "source": [
    "con_params.keys()"
   ]
  },
  {
   "cell_type": "code",
   "execution_count": 26,
   "metadata": {
    "scrolled": true
   },
   "outputs": [],
   "source": [
    "mod_seqs = {}\n",
    "for qq in ['xgb_trans_07:22:39_4_GSM4041595_K562_rep2.hg38_250_1', 'xgb_clusters_10:24:55_4_try4_250_1']:\n",
    "    #print(modelname)\n",
    "    all_proc = Pool(processes = 24)\n",
    "    all_data = all_proc.starmap(all_to_con, [('%s/%s.fna' % (sequence_path, i), con_params[qq][con_params[qq]['rna_chr']==i]) for i in chr_names])\n",
    "    all_proc.close()\n",
    "    all_proc.join()\n",
    "    all_seqs = pd.concat(all_data, ignore_index = True)\n",
    "    mod_seqs[qq] = all_seqs"
   ]
  },
  {
   "cell_type": "code",
   "execution_count": 27,
   "metadata": {},
   "outputs": [
    {
     "data": {
      "text/plain": [
       "{'xgb_trans_07:22:39_4_GSM4041595_K562_rep2.hg38_250_1':                                                 id  \\\n",
       " 0            D00795:28:C99BVACXX:7:2111:9367:55490   \n",
       " 1     M01460:89:000000000-AJJ2J:1:1116:22654:10850   \n",
       " 2            D00795:30:CA2UTANXX:1:1202:8310:50894   \n",
       " 3            D00795:30:CA2UTANXX:5:2202:3773:77078   \n",
       " 4           D00795:30:CA2UTANXX:1:2211:19847:51320   \n",
       " ...                                            ...   \n",
       " 4384        D00795:30:CA2UTANXX:1:1304:17878:10666   \n",
       " 4385        D00795:30:CA2UTANXX:1:2112:18197:74350   \n",
       " 4386  M01460:89:000000000-AJJ2J:1:2107:25915:10363   \n",
       " 4387        D00795:30:CA2UTANXX:5:2215:18486:59875   \n",
       " 4388        D00795:28:C99BVACXX:7:2311:10156:11899   \n",
       " \n",
       "                                             contact_seq  \n",
       " 0     GAGGTTATGGTTTCATGTTTGCTGTTGTTTTCTGTGGATATACATC...  \n",
       " 1     TACATCTATGCCTTTGCATTGAAGAATGACTTAATTTATTCCATTC...  \n",
       " 2     TAAGTTTCTAATCTCCTCATGTGTGTTTGTCAAGGGTGTGAAGTAT...  \n",
       " 3     TAATTTGTAGAATTATCCAGTCATGCCAGTTGGTCCTGGGCTTTTC...  \n",
       " 4     TTGTCATTAGGTCTCTAGGTTCTGAGGATTACTGTGGGGTAGGCAG...  \n",
       " ...                                                 ...  \n",
       " 4384  GATCTTGGTTCGCTACGAACTCCCTGTCCTGCGCTCAAATGATCCT...  \n",
       " 4385  GATCTTGGTTCGCTACGAACTCCCTGTCCTGCGCTCAAATGATCCT...  \n",
       " 4386  GTTCGCTACGAACTCCCTGTCCTGCGCTCAAATGATCCTCCCACCT...  \n",
       " 4387  TGTCCTGCGCTCAAATGATCCTCCCACCTTAGCCTCCTGAGTAGCT...  \n",
       " 4388  TTGTATTTTTCACCAGGTTCTTTAAGCATGTTGTAAACTTTGCAGA...  \n",
       " \n",
       " [4389 rows x 2 columns],\n",
       " 'xgb_clusters_10:24:55_4_try4_250_1':                                                 id  \\\n",
       " 0           D00795:30:CA2UTANXX:1:2109:16280:50977   \n",
       " 1            D00795:28:C99BVACXX:7:2113:2567:94148   \n",
       " 2     M01460:89:000000000-AJJ2J:1:1103:21188:15399   \n",
       " 3           D00795:28:C99BVACXX:7:1215:20992:18482   \n",
       " 4           D00795:30:CA2UTANXX:1:1201:19034:85597   \n",
       " ...                                            ...   \n",
       " 6292         D00795:30:CA2UTANXX:1:1115:2400:59773   \n",
       " 6293         D00795:30:CA2UTANXX:1:2112:7829:77672   \n",
       " 6294          D00795:30:CA2UTANXX:1:1203:6602:7360   \n",
       " 6295        D00795:30:CA2UTANXX:1:2114:15927:55794   \n",
       " 6296        D00795:30:CA2UTANXX:1:2112:18324:90773   \n",
       " \n",
       "                                             contact_seq  \n",
       " 0     TCTTCCTGCTCCGGTTCAGAAGGTCTGAAGCTCATACCTAACCAGG...  \n",
       " 1     TCTTCCTGCTCCGGTTCAGAAGGTCTGAAGCTCATACCTAACCAGG...  \n",
       " 2     TCTTCCTGCTCCGGTTCAGAAGGTCTGAAGCTCATACCTAACCAGG...  \n",
       " 3     CTTCCTGCTCCGGTTCAGAAGGTCTGAAGCTCATACCTAACCAGGC...  \n",
       " 4     ACCTAACCAGGCATAACACAGAATCTGCAAAACAAAAACCCCTAAA...  \n",
       " ...                                                 ...  \n",
       " 6292  GGACTCTTTCGAGGCCCTGTAATTGGAATGAGTCCACTTTAAATCC...  \n",
       " 6293  GGCCCTGTAATTGGAATGAGTCCACTTTAAATCCTTTAACGAGGAT...  \n",
       " 6294  GGCCCTGTAATTGGAATGAGTCCACTTTAAATCCTTTAACGAGGAT...  \n",
       " 6295  GGCCCTGTAATTGGAATGAGTCCACTTTAAATCCTTTAACGAGGAT...  \n",
       " 6296  GGCCCTGTAATTGGAATGAGTCCACTTTAAATCCTTTAACGAGGAT...  \n",
       " \n",
       " [6297 rows x 2 columns]}"
      ]
     },
     "execution_count": 27,
     "metadata": {},
     "output_type": "execute_result"
    }
   ],
   "source": [
    "mod_seqs"
   ]
  },
  {
   "cell_type": "code",
   "execution_count": 31,
   "metadata": {},
   "outputs": [
    {
     "name": "stdout",
     "output_type": "stream",
     "text": [
      "xgb_trans_07:22:39_4_GSM4041595_K562_rep2.hg38_250_1\n",
      "xgb_clusters_10:24:55_4_try4_250_1\n"
     ]
    }
   ],
   "source": [
    "for i in list(mod_seqs.keys()):\n",
    "    print(i)\n",
    "    mod_seqs[i].to_csv(f'/home/pitikovegor/CourseWork/genomes/models/contact_seqs/{i}.tsv', sep = '\\t')"
   ]
  },
  {
   "cell_type": "code",
   "execution_count": 29,
   "metadata": {},
   "outputs": [
    {
     "data": {
      "text/plain": [
       "dict_keys(['xgb_trans_07:22:39_4_GSM4041595_K562_rep2.hg38_250_1', 'xgb_clusters_10:24:55_4_try4_250_1'])"
      ]
     },
     "execution_count": 29,
     "metadata": {},
     "output_type": "execute_result"
    }
   ],
   "source": [
    "mod_seqs.keys()"
   ]
  },
  {
   "cell_type": "code",
   "execution_count": null,
   "metadata": {},
   "outputs": [],
   "source": []
  },
  {
   "cell_type": "code",
   "execution_count": null,
   "metadata": {},
   "outputs": [],
   "source": []
  },
  {
   "cell_type": "markdown",
   "metadata": {},
   "source": [
    "# Clustering"
   ]
  },
  {
   "cell_type": "code",
   "execution_count": 1,
   "metadata": {},
   "outputs": [],
   "source": [
    "import pandas as pd\n",
    "import numpy as np\n",
    "from multiprocessing import Process\n",
    "from multiprocessing import Pool\n",
    "import Levenshtein as lev\n",
    "import sklearn.feature_extraction.text\n",
    "from sklearn.cluster import AffinityPropagation\n",
    "from Levenshtein import distance\n",
    "from sklearn.feature_extraction.text import CountVectorizer\n",
    "import pyopencl"
   ]
  },
  {
   "cell_type": "code",
   "execution_count": 2,
   "metadata": {},
   "outputs": [
    {
     "data": {
      "text/plain": [
       "2"
      ]
     },
     "execution_count": 2,
     "metadata": {},
     "output_type": "execute_result"
    }
   ],
   "source": [
    "distance('AAAAA', 'TAAAAAT')"
   ]
  },
  {
   "cell_type": "code",
   "execution_count": 2,
   "metadata": {},
   "outputs": [],
   "source": [
    "modelname = 'xgb_trans_07:22:39_4_GSM4041595_K562_rep2.hg38_250_1'\n",
    "path_to_seqs = '/home/pitikovegor/CourseWork/genomes/models/contact_seqs'"
   ]
  },
  {
   "cell_type": "code",
   "execution_count": 3,
   "metadata": {},
   "outputs": [],
   "source": [
    "sequnces = pd.read_csv(f'{path_to_seqs}/{modelname}.tsv', sep = '\\t')"
   ]
  },
  {
   "cell_type": "code",
   "execution_count": 7,
   "metadata": {},
   "outputs": [],
   "source": [
    "sequnces = sequnces.loc[:100, :]"
   ]
  },
  {
   "cell_type": "code",
   "execution_count": 27,
   "metadata": {},
   "outputs": [],
   "source": [
    "def levcounter(words_table, full_words_table):\n",
    "    lev_similarity = 1/(np.array([[distance(s1,s2) for s1 in full_words_table] for s2 in words_table])+1)\n",
    "    print(f'i\\'m all. Table: {len(words_table)}, full teable: {len(full_words_table)}, answer shape: {lev_similarity.shape}')\n",
    "    return lev_similarity"
   ]
  },
  {
   "cell_type": "code",
   "execution_count": 25,
   "metadata": {},
   "outputs": [
    {
     "data": {
      "text/html": [
       "<div>\n",
       "<style scoped>\n",
       "    .dataframe tbody tr th:only-of-type {\n",
       "        vertical-align: middle;\n",
       "    }\n",
       "\n",
       "    .dataframe tbody tr th {\n",
       "        vertical-align: top;\n",
       "    }\n",
       "\n",
       "    .dataframe thead th {\n",
       "        text-align: right;\n",
       "    }\n",
       "</style>\n",
       "<table border=\"1\" class=\"dataframe\">\n",
       "  <thead>\n",
       "    <tr style=\"text-align: right;\">\n",
       "      <th></th>\n",
       "      <th>Unnamed: 0</th>\n",
       "      <th>id</th>\n",
       "      <th>contact_seq</th>\n",
       "    </tr>\n",
       "  </thead>\n",
       "  <tbody>\n",
       "    <tr>\n",
       "      <th>0</th>\n",
       "      <td>0</td>\n",
       "      <td>D00795:28:C99BVACXX:7:2111:9367:55490</td>\n",
       "      <td>GAGGTTATGGTTTCATGTTTGCTGTTGTTTTCTGTGGATATACATC...</td>\n",
       "    </tr>\n",
       "    <tr>\n",
       "      <th>1</th>\n",
       "      <td>1</td>\n",
       "      <td>M01460:89:000000000-AJJ2J:1:1116:22654:10850</td>\n",
       "      <td>TACATCTATGCCTTTGCATTGAAGAATGACTTAATTTATTCCATTC...</td>\n",
       "    </tr>\n",
       "    <tr>\n",
       "      <th>2</th>\n",
       "      <td>2</td>\n",
       "      <td>D00795:30:CA2UTANXX:1:1202:8310:50894</td>\n",
       "      <td>TAAGTTTCTAATCTCCTCATGTGTGTTTGTCAAGGGTGTGAAGTAT...</td>\n",
       "    </tr>\n",
       "    <tr>\n",
       "      <th>3</th>\n",
       "      <td>3</td>\n",
       "      <td>D00795:30:CA2UTANXX:5:2202:3773:77078</td>\n",
       "      <td>TAATTTGTAGAATTATCCAGTCATGCCAGTTGGTCCTGGGCTTTTC...</td>\n",
       "    </tr>\n",
       "    <tr>\n",
       "      <th>4</th>\n",
       "      <td>4</td>\n",
       "      <td>D00795:30:CA2UTANXX:1:2211:19847:51320</td>\n",
       "      <td>TTGTCATTAGGTCTCTAGGTTCTGAGGATTACTGTGGGGTAGGCAG...</td>\n",
       "    </tr>\n",
       "    <tr>\n",
       "      <th>...</th>\n",
       "      <td>...</td>\n",
       "      <td>...</td>\n",
       "      <td>...</td>\n",
       "    </tr>\n",
       "    <tr>\n",
       "      <th>96</th>\n",
       "      <td>96</td>\n",
       "      <td>D00795:30:CA2UTANXX:1:1205:12754:68587</td>\n",
       "      <td>ATTTGAGAGTCTGTGCCTGGCTTTGTGATAGGTATAAGAAGGAGCT...</td>\n",
       "    </tr>\n",
       "    <tr>\n",
       "      <th>97</th>\n",
       "      <td>97</td>\n",
       "      <td>D00795:28:C99BVACXX:7:2310:3282:23813</td>\n",
       "      <td>ACAGTTTCTGTTGGATAGAACTGTGTATTCATCTGCAAACTGATAA...</td>\n",
       "    </tr>\n",
       "    <tr>\n",
       "      <th>98</th>\n",
       "      <td>98</td>\n",
       "      <td>D00795:28:C99BVACXX:7:1102:2640:92401</td>\n",
       "      <td>GTCCTACAAATGCCAGGCCCTGCCCATGCGGCTTCCCTCCTCAGAC...</td>\n",
       "    </tr>\n",
       "    <tr>\n",
       "      <th>99</th>\n",
       "      <td>99</td>\n",
       "      <td>D00795:30:CA2UTANXX:1:2315:6294:92804</td>\n",
       "      <td>CAGCCAGAAAGTCCTACAAATGCCAGGCCCTGCCCATGCGGCTTCC...</td>\n",
       "    </tr>\n",
       "    <tr>\n",
       "      <th>100</th>\n",
       "      <td>100</td>\n",
       "      <td>D00795:28:C99BVACXX:8:2202:4968:4067</td>\n",
       "      <td>AAGTCCTACAAATGCCAGGCCCTGCCCATGCGGCTTCCCTCCTCAG...</td>\n",
       "    </tr>\n",
       "  </tbody>\n",
       "</table>\n",
       "<p>101 rows × 3 columns</p>\n",
       "</div>"
      ],
      "text/plain": [
       "     Unnamed: 0                                            id  \\\n",
       "0             0         D00795:28:C99BVACXX:7:2111:9367:55490   \n",
       "1             1  M01460:89:000000000-AJJ2J:1:1116:22654:10850   \n",
       "2             2         D00795:30:CA2UTANXX:1:1202:8310:50894   \n",
       "3             3         D00795:30:CA2UTANXX:5:2202:3773:77078   \n",
       "4             4        D00795:30:CA2UTANXX:1:2211:19847:51320   \n",
       "..          ...                                           ...   \n",
       "96           96        D00795:30:CA2UTANXX:1:1205:12754:68587   \n",
       "97           97         D00795:28:C99BVACXX:7:2310:3282:23813   \n",
       "98           98         D00795:28:C99BVACXX:7:1102:2640:92401   \n",
       "99           99         D00795:30:CA2UTANXX:1:2315:6294:92804   \n",
       "100         100          D00795:28:C99BVACXX:8:2202:4968:4067   \n",
       "\n",
       "                                           contact_seq  \n",
       "0    GAGGTTATGGTTTCATGTTTGCTGTTGTTTTCTGTGGATATACATC...  \n",
       "1    TACATCTATGCCTTTGCATTGAAGAATGACTTAATTTATTCCATTC...  \n",
       "2    TAAGTTTCTAATCTCCTCATGTGTGTTTGTCAAGGGTGTGAAGTAT...  \n",
       "3    TAATTTGTAGAATTATCCAGTCATGCCAGTTGGTCCTGGGCTTTTC...  \n",
       "4    TTGTCATTAGGTCTCTAGGTTCTGAGGATTACTGTGGGGTAGGCAG...  \n",
       "..                                                 ...  \n",
       "96   ATTTGAGAGTCTGTGCCTGGCTTTGTGATAGGTATAAGAAGGAGCT...  \n",
       "97   ACAGTTTCTGTTGGATAGAACTGTGTATTCATCTGCAAACTGATAA...  \n",
       "98   GTCCTACAAATGCCAGGCCCTGCCCATGCGGCTTCCCTCCTCAGAC...  \n",
       "99   CAGCCAGAAAGTCCTACAAATGCCAGGCCCTGCCCATGCGGCTTCC...  \n",
       "100  AAGTCCTACAAATGCCAGGCCCTGCCCATGCGGCTTCCCTCCTCAG...  \n",
       "\n",
       "[101 rows x 3 columns]"
      ]
     },
     "execution_count": 25,
     "metadata": {},
     "output_type": "execute_result"
    }
   ],
   "source": [
    "sequnces"
   ]
  },
  {
   "cell_type": "code",
   "execution_count": 30,
   "metadata": {},
   "outputs": [
    {
     "name": "stdout",
     "output_type": "stream",
     "text": [
      "i'm all. Table: 6, full teable: 101, answer shape: (6, 101)\n",
      "i'm all. Table: 6, full teable: 101, answer shape: (6, 101)\n",
      "i'm all. Table: 6, full teable: 101, answer shape: (6, 101)\n",
      "i'm all. Table: 6, full teable: 101, answer shape: (6, 101)\n",
      "i'm all. Table: 6, full teable: 101, answer shape: (6, 101)\n",
      "i'm all. Table: 6, full teable: 101, answer shape: (6, 101)\n",
      "i'm all. Table: 6, full teable: 101, answer shape: (6, 101)\n",
      "i'm all. Table: 6, full teable: 101, answer shape: (6, 101)\n",
      "i'm all. Table: 6, full teable: 101, answer shape: (6, 101)\n",
      "i'm all. Table: 6, full teable: 101, answer shape: (6, 101)\n",
      "i'm all. Table: 6, full teable: 101, answer shape: (6, 101)\n",
      "i'm all. Table: 6, full teable: 101, answer shape: (6, 101)\n",
      "i'm all. Table: 6, full teable: 101, answer shape: (6, 101)\n",
      "i'm all. Table: 6, full teable: 101, answer shape: (6, 101)\n",
      "i'm all. Table: 6, full teable: 101, answer shape: (6, 101)\n",
      "i'm all. Table: 11, full teable: 101, answer shape: (11, 101)\n"
     ]
    }
   ],
   "source": [
    "to_1 = int(len(sequnces['contact_seq'])/15)\n",
    "all_proc_test = Pool(processes = 16)\n",
    "all_data = all_proc_test.starmap(levcounter, [(sequnces['contact_seq'][i*to_1:(i+1)*to_1], sequnces['contact_seq']) for i in range(15)] + [(sequnces['contact_seq'][len(sequnces['contact_seq']) - len(sequnces['contact_seq'])%15:], sequnces['contact_seq'])])\n",
    "all_proc_test.close()\n",
    "all_proc_test.join()\n"
   ]
  },
  {
   "cell_type": "code",
   "execution_count": 31,
   "metadata": {},
   "outputs": [
    {
     "data": {
      "text/plain": [
       "11"
      ]
     },
     "execution_count": 31,
     "metadata": {},
     "output_type": "execute_result"
    }
   ],
   "source": [
    "len(sequnces['contact_seq'])%15"
   ]
  },
  {
   "cell_type": "code",
   "execution_count": null,
   "metadata": {},
   "outputs": [],
   "source": []
  },
  {
   "cell_type": "code",
   "execution_count": 32,
   "metadata": {},
   "outputs": [],
   "source": [
    "all_data = np.concatenate(all_data, axis=0)"
   ]
  },
  {
   "cell_type": "code",
   "execution_count": 33,
   "metadata": {},
   "outputs": [
    {
     "data": {
      "text/plain": [
       "(101, 101)"
      ]
     },
     "execution_count": 33,
     "metadata": {},
     "output_type": "execute_result"
    }
   ],
   "source": [
    "all_data.shape"
   ]
  },
  {
   "cell_type": "code",
   "execution_count": 34,
   "metadata": {},
   "outputs": [
    {
     "name": "stderr",
     "output_type": "stream",
     "text": [
      "/home/pitikovegor/anaconda/anaconda/lib/python3.7/site-packages/sklearn/cluster/_affinity_propagation.py:152: FutureWarning: 'random_state' has been introduced in 0.23. It will be set to None starting from 0.25 which means that results will differ at every function call. Set 'random_state' to None to silence this warning, or to 0 to keep the behavior of versions <0.23.\n",
      "  FutureWarning)\n"
     ]
    },
    {
     "data": {
      "text/plain": [
       "AffinityPropagation(affinity='precomputed', damping=0.9)"
      ]
     },
     "execution_count": 34,
     "metadata": {},
     "output_type": "execute_result"
    }
   ],
   "source": [
    "affprop = AffinityPropagation(affinity=\"precomputed\", damping=0.9)\n",
    "affprop.fit(all_data)"
   ]
  },
  {
   "cell_type": "code",
   "execution_count": null,
   "metadata": {},
   "outputs": [],
   "source": [
    "#lev_similarity = 1/(np.array([[distance(s1,s2) for s1 in sequnces['contact_seq']] for s2 in sequnces['contact_seq']])+1)\n",
    "affprop = AffinityPropagation(affinity=\"precomputed\", damping=0.9)\n",
    "affprop.fit(all_data)\n",
    "for cluster_id in np.unique(affprop.labels_):\n",
    "    #print(cluster_id)\n",
    "    #print(len(words), len(affprop.cluster_centers_indices_))\n",
    "    exemplar = words[affprop.cluster_centers_indices_[cluster_id]]\n",
    "    cluster = np.unique(words[np.nonzero(affprop.labels_==cluster_id)])\n",
    "    cluster_str = \", \".join(cluster)\n",
    "    print(\"Cluster center: %s\\n Words in cluster: %s\" % (exemplar, cluster_str))"
   ]
  },
  {
   "cell_type": "code",
   "execution_count": 29,
   "metadata": {},
   "outputs": [
    {
     "data": {
      "text/plain": [
       "CountVectorizer()"
      ]
     },
     "execution_count": 29,
     "metadata": {},
     "output_type": "execute_result"
    }
   ],
   "source": [
    "vectorizer = CountVectorizer()\n",
    "vectorizer"
   ]
  },
  {
   "cell_type": "code",
   "execution_count": 30,
   "metadata": {},
   "outputs": [],
   "source": [
    "X = vectorizer.fit_transform(sequnces['contact_seq'].apply(lambda x: x[500:len(x)-500]))"
   ]
  },
  {
   "cell_type": "code",
   "execution_count": 31,
   "metadata": {},
   "outputs": [
    {
     "data": {
      "text/plain": [
       "array([[0, 0, 0, ..., 0, 0, 0],\n",
       "       [0, 0, 0, ..., 0, 0, 0],\n",
       "       [0, 0, 0, ..., 0, 0, 0],\n",
       "       ...,\n",
       "       [0, 0, 0, ..., 0, 0, 0],\n",
       "       [0, 0, 0, ..., 0, 0, 0],\n",
       "       [0, 0, 0, ..., 0, 0, 0]])"
      ]
     },
     "execution_count": 31,
     "metadata": {},
     "output_type": "execute_result"
    }
   ],
   "source": [
    "X.toarray()"
   ]
  },
  {
   "cell_type": "code",
   "execution_count": 32,
   "metadata": {},
   "outputs": [
    {
     "name": "stderr",
     "output_type": "stream",
     "text": [
      "/home/pitikovegor/anaconda/anaconda/lib/python3.7/site-packages/sklearn/cluster/_affinity_propagation.py:152: FutureWarning: 'random_state' has been introduced in 0.23. It will be set to None starting from 0.25 which means that results will differ at every function call. Set 'random_state' to None to silence this warning, or to 0 to keep the behavior of versions <0.23.\n",
      "  FutureWarning)\n"
     ]
    },
    {
     "name": "stdout",
     "output_type": "stream",
     "text": [
      "-1\n"
     ]
    },
    {
     "name": "stderr",
     "output_type": "stream",
     "text": [
      "/home/pitikovegor/anaconda/anaconda/lib/python3.7/site-packages/sklearn/cluster/_affinity_propagation.py:244: ConvergenceWarning: Affinity propagation did not converge, this model will not have any cluster centers.\n",
      "  \"will not have any cluster centers.\", ConvergenceWarning)\n"
     ]
    }
   ],
   "source": [
    "affprop = AffinityPropagation(damping=0.5)\n",
    "affprop.fit(X)\n",
    "for cluster_id in np.unique(affprop.labels_):\n",
    "    print(cluster_id)\n",
    "    #print(cluster_id)\n",
    "    #print(len(words), len(affprop.cluster_centers_indices_))\n",
    "    #exemplar = np.array(sequnces['contact_seq'])[affprop.cluster_centers_indices_[cluster_id]]\n",
    "    #cluster = np.unique(words[np.nonzero(affprop.labels_==cluster_id)])\n",
    "    #cluster_str = \", \".join(cluster)\n",
    "   # print(\"Cluster center: %s\\n Words in cluster: %s\" % (exemplar, cluster_str))"
   ]
  },
  {
   "cell_type": "code",
   "execution_count": 38,
   "metadata": {},
   "outputs": [],
   "source": [
    "np.savetxt(f'{path_to_seqs}/clusters_{modelname}.tsv', affprop.labels_, delimiter='\\t')"
   ]
  },
  {
   "cell_type": "code",
   "execution_count": 25,
   "metadata": {},
   "outputs": [
    {
     "ename": "ModuleNotFoundError",
     "evalue": "No module named 'pycuda'",
     "output_type": "error",
     "traceback": [
      "\u001b[0;31m---------------------------------------------------------------------------\u001b[0m",
      "\u001b[0;31mModuleNotFoundError\u001b[0m                       Traceback (most recent call last)",
      "\u001b[0;32m<ipython-input-25-f94ad727997b>\u001b[0m in \u001b[0;36m<module>\u001b[0;34m\u001b[0m\n\u001b[0;32m----> 1\u001b[0;31m \u001b[0;32mimport\u001b[0m \u001b[0mpycuda\u001b[0m\u001b[0;34m.\u001b[0m\u001b[0mdriver\u001b[0m \u001b[0;32mas\u001b[0m \u001b[0mcuda\u001b[0m\u001b[0;34m\u001b[0m\u001b[0;34m\u001b[0m\u001b[0m\n\u001b[0m\u001b[1;32m      2\u001b[0m \u001b[0;32mimport\u001b[0m \u001b[0mpycuda\u001b[0m\u001b[0;34m.\u001b[0m\u001b[0mautoinit\u001b[0m\u001b[0;34m\u001b[0m\u001b[0;34m\u001b[0m\u001b[0m\n\u001b[1;32m      3\u001b[0m \u001b[0;32mfrom\u001b[0m \u001b[0mpycuda\u001b[0m\u001b[0;34m.\u001b[0m\u001b[0mcompiler\u001b[0m \u001b[0;32mimport\u001b[0m \u001b[0mSourceModule\u001b[0m\u001b[0;34m\u001b[0m\u001b[0;34m\u001b[0m\u001b[0m\n",
      "\u001b[0;31mModuleNotFoundError\u001b[0m: No module named 'pycuda'"
     ]
    }
   ],
   "source": [
    "import pycuda.driver as cuda\n",
    "import pycuda.autoinit\n",
    "from pycuda.compiler import SourceModule"
   ]
  },
  {
   "cell_type": "code",
   "execution_count": null,
   "metadata": {},
   "outputs": [],
   "source": []
  }
 ],
 "metadata": {
  "kernelspec": {
   "display_name": "Python 3",
   "language": "python",
   "name": "python3"
  },
  "language_info": {
   "codemirror_mode": {
    "name": "ipython",
    "version": 3
   },
   "file_extension": ".py",
   "mimetype": "text/x-python",
   "name": "python",
   "nbconvert_exporter": "python",
   "pygments_lexer": "ipython3",
   "version": "3.7.3"
  }
 },
 "nbformat": 4,
 "nbformat_minor": 2
}
