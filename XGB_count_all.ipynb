{
 "cells": [
  {
   "cell_type": "code",
   "execution_count": 1,
   "metadata": {},
   "outputs": [
    {
     "name": "stderr",
     "output_type": "stream",
     "text": [
      "/home/pitikovegor/anaconda/anaconda/lib/python3.7/site-packages/dask/config.py:168: YAMLLoadWarning: calling yaml.load() without Loader=... is deprecated, as the default Loader is unsafe. Please read https://msg.pyyaml.org/load for full details.\n",
      "  data = yaml.load(f.read()) or {}\n",
      "/home/pitikovegor/anaconda/anaconda/lib/python3.7/site-packages/dask/dataframe/utils.py:13: FutureWarning: pandas.util.testing is deprecated. Use the functions in the public API at pandas.testing instead.\n",
      "  import pandas.util.testing as tm\n",
      "/home/pitikovegor/anaconda/anaconda/lib/python3.7/site-packages/distributed/config.py:20: YAMLLoadWarning: calling yaml.load() without Loader=... is deprecated, as the default Loader is unsafe. Please read https://msg.pyyaml.org/load for full details.\n",
      "  defaults = yaml.load(f)\n",
      "/home/pitikovegor/anaconda/anaconda/lib/python3.7/site-packages/tensorflow/python/framework/dtypes.py:526: FutureWarning: Passing (type, 1) or '1type' as a synonym of type is deprecated; in a future version of numpy, it will be understood as (type, (1,)) / '(1,)type'.\n",
      "  _np_qint8 = np.dtype([(\"qint8\", np.int8, 1)])\n",
      "/home/pitikovegor/anaconda/anaconda/lib/python3.7/site-packages/tensorflow/python/framework/dtypes.py:527: FutureWarning: Passing (type, 1) or '1type' as a synonym of type is deprecated; in a future version of numpy, it will be understood as (type, (1,)) / '(1,)type'.\n",
      "  _np_quint8 = np.dtype([(\"quint8\", np.uint8, 1)])\n",
      "/home/pitikovegor/anaconda/anaconda/lib/python3.7/site-packages/tensorflow/python/framework/dtypes.py:528: FutureWarning: Passing (type, 1) or '1type' as a synonym of type is deprecated; in a future version of numpy, it will be understood as (type, (1,)) / '(1,)type'.\n",
      "  _np_qint16 = np.dtype([(\"qint16\", np.int16, 1)])\n",
      "/home/pitikovegor/anaconda/anaconda/lib/python3.7/site-packages/tensorflow/python/framework/dtypes.py:529: FutureWarning: Passing (type, 1) or '1type' as a synonym of type is deprecated; in a future version of numpy, it will be understood as (type, (1,)) / '(1,)type'.\n",
      "  _np_quint16 = np.dtype([(\"quint16\", np.uint16, 1)])\n",
      "/home/pitikovegor/anaconda/anaconda/lib/python3.7/site-packages/tensorflow/python/framework/dtypes.py:530: FutureWarning: Passing (type, 1) or '1type' as a synonym of type is deprecated; in a future version of numpy, it will be understood as (type, (1,)) / '(1,)type'.\n",
      "  _np_qint32 = np.dtype([(\"qint32\", np.int32, 1)])\n",
      "/home/pitikovegor/anaconda/anaconda/lib/python3.7/site-packages/tensorflow/python/framework/dtypes.py:535: FutureWarning: Passing (type, 1) or '1type' as a synonym of type is deprecated; in a future version of numpy, it will be understood as (type, (1,)) / '(1,)type'.\n",
      "  np_resource = np.dtype([(\"resource\", np.ubyte, 1)])\n"
     ]
    }
   ],
   "source": [
    "import pandas as pd\n",
    "import ray\n",
    "from multiprocessing import Process, Pipe\n",
    "import xgboost as xgb\n",
    "import numpy as np \n",
    "import sklearn\n",
    "from sklearn.metrics import mean_squared_error\n",
    "from sklearn.datasets import make_classification\n",
    "from sklearn.linear_model import LogisticRegression\n",
    "from sklearn.ensemble import (RandomTreesEmbedding, RandomForestClassifier, GradientBoostingClassifier)\n",
    "from sklearn.preprocessing import OneHotEncoder\n",
    "from sklearn.model_selection import train_test_split\n",
    "from sklearn.metrics import roc_curve\n",
    "from sklearn.pipeline import make_pipeline\n",
    "import tensorflow\n",
    "import matplotlib.pyplot as plt\n",
    "from sklearn.metrics import precision_score\n",
    "import matplotlib.gridspec as gridspec\n",
    "from kpal.klib import Profile\n",
    "from multiprocessing import Queue\n",
    "from multiprocessing import Process\n",
    "from Bio.Seq import Seq\n",
    "from Bio import SeqIO\n",
    "from multiprocessing import Pool, freeze_support\n",
    "from scipy.stats import fisher_exact\n",
    "import subprocess\n",
    "import re\n",
    "from statsmodels.stats.multitest import fdrcorrection\n",
    "import seaborn as sns"
   ]
  },
  {
   "cell_type": "code",
   "execution_count": 2,
   "metadata": {},
   "outputs": [],
   "source": [
    "p = subprocess.Popen([\"ls /home/pitikovegor/CourseWork/genomes/models\"], shell = True, stdout=subprocess.PIPE)\n",
    "out, err = p.communicate()\n",
    "modelnames_clusters = [i if re.match('xgb_clusters_..:..:.._4', i) else None for i in  out.decode().split('\\n')]\n",
    "modelnames_trpr = [i if re.match('xgb_trans_..:..:.._4', i) else None for i in  out.decode().split('\\n')]"
   ]
  },
  {
   "cell_type": "code",
   "execution_count": null,
   "metadata": {},
   "outputs": [
    {
     "data": {
      "text/plain": [
       "[None,\n",
       " 'xgb_clusters_01:54:14_4_try1',\n",
       " 'xgb_clusters_10:24:55_4_try4_250_1',\n",
       " 'xgb_clusters_10:36:58_4_try2_500_10',\n",
       " 'xgb_clusters_12:03:40_4_try5_250_2',\n",
       " None,\n",
       " 'xgb_clusters_14:47:34_4_try6_250_3',\n",
       " None,\n",
       " 'xgb_clusters_15:41:03_4_try7_500_1',\n",
       " 'xgb_clusters_16:40:43_4_try8_1000_1',\n",
       " None,\n",
       " 'xgb_clusters_18:24:59_4_try3_1000_10',\n",
       " 'xgb_clusters_18:38:19_4_try11_6_1_2',\n",
       " 'xgb_clusters_19:09:06_4_try12_6_1_3',\n",
       " 'xgb_clusters_20:44:08_4_try9_6_1',\n",
       " 'xgb_clusters_21:10:12_4_try10_8_1',\n",
       " None,\n",
       " None,\n",
       " None,\n",
       " None,\n",
       " None,\n",
       " None,\n",
       " None,\n",
       " None,\n",
       " None,\n",
       " None,\n",
       " None,\n",
       " None,\n",
       " None,\n",
       " None]"
      ]
     },
     "execution_count": 3,
     "metadata": {},
     "output_type": "execute_result"
    }
   ],
   "source": [
    "modelnames_clusters"
   ]
  },
  {
   "cell_type": "code",
   "execution_count": null,
   "metadata": {},
   "outputs": [
    {
     "data": {
      "text/plain": [
       "[None,\n",
       " None,\n",
       " None,\n",
       " None,\n",
       " None,\n",
       " None,\n",
       " None,\n",
       " None,\n",
       " None,\n",
       " None,\n",
       " None,\n",
       " None,\n",
       " None,\n",
       " None,\n",
       " None,\n",
       " None,\n",
       " None,\n",
       " 'xgb_trans_06:20:55_4_GSM4041595_K562_rep2.hg38_500_2',\n",
       " 'xgb_trans_06:59:53_4_GSM4041595_K562_rep2.hg38_250_2',\n",
       " 'xgb_trans_07:22:39_4_GSM4041595_K562_rep2.hg38_250_1',\n",
       " 'xgb_trans_08:18:52_4_GSM4041595_K562_rep2.hg38_250_3',\n",
       " None,\n",
       " None,\n",
       " None,\n",
       " 'xgb_trans_15:55:23_4_GSM4041595_K562_rep2.hg38',\n",
       " 'xgb_trans_18:01:09_4_GSM4041595_K562_rep2.hg38_6_1_2',\n",
       " 'xgb_trans_18:09:47_4_GSM4041595_K562_rep2.hg38_6_1_3',\n",
       " 'xgb_trans_20:04:24_4_GSM4041595_K562_rep2.hg38_6_1',\n",
       " 'xgb_trans_20:12:51_4_GSM4041595_K562_rep2.hg38_8_1',\n",
       " None]"
      ]
     },
     "execution_count": 4,
     "metadata": {},
     "output_type": "execute_result"
    }
   ],
   "source": [
    "modelnames_trpr"
   ]
  },
  {
   "cell_type": "code",
   "execution_count": null,
   "metadata": {},
   "outputs": [],
   "source": [
    "chr_names=['chrX', 'chrY']\n",
    "for i in range(1, 23):\n",
    "    chr_names.append('chr%d' % (i))"
   ]
  },
  {
   "cell_type": "code",
   "execution_count": null,
   "metadata": {},
   "outputs": [],
   "source": [
    "cell_type = 'K562'\n",
    "experiment = 'GSM4041595_K562_rep2.hg38'\n",
    "cont_data_path = '/home/pitikovegor/CourseWork/genomes/reds_experiments/%s/parsed_contacts_%s' % (cell_type, experiment)\n",
    "sequence_path = '/home/pitikovegor/CourseWork/genomes/chr_sequence'\n",
    "k = 4"
   ]
  },
  {
   "cell_type": "code",
   "execution_count": null,
   "metadata": {},
   "outputs": [],
   "source": [
    "#extract k-mers\n",
    "def seq_cutter(sequence, position, chain):\n",
    "    if chain=='+':\n",
    "        return sequence[max(0, position[0]+1-250) : min(position[1]+1+250, len(sequence))]\n",
    "    else:\n",
    "        return sequence[max(0, position[0]+1-250) : min(position[1]+1+250, len(sequence))].reverse_complement()\n",
    "\n",
    "def open_fasta (name):\n",
    "    for record in SeqIO.parse(name, \"fasta\"): # It's a FUCKING GENERATOR!!!!!!! I need in 1st - all of the rest is alternatively\n",
    "        chr_seq = record.seq\n",
    "        del record\n",
    "        return chr_seq\n",
    "    \n",
    "def k_mer_counter (k, sequence):\n",
    "    k_mers_count = max(len(sequence) - k + 1, 1)\n",
    "    sequence = [sequence]\n",
    "    k_mers = Profile.from_sequences(sequence, k).counts\n",
    "    k_mers = np.multiply(k_mers, np.array([1/k_mers_count]*len(k_mers)))\n",
    "    return k_mers\n",
    "\n",
    "\n",
    "def sequence_process_rna (fasta_seq, k, input_table):\n",
    "    chr_seq = open_fasta(fasta_seq)\n",
    "    input_table = input_table.to_numpy()\n",
    "    all_kmers = []\n",
    "    for cont in input_table:\n",
    "        seq = seq_cutter(chr_seq, (cont[1], cont[2]), cont[3])\n",
    "        seq = str(seq)\n",
    "        k_mer_num = list(k_mer_counter(k, seq))\n",
    "        all_kmers.append(k_mer_num)\n",
    "    if all_kmers:\n",
    "        all_kmers = np.array(all_kmers)\n",
    "        input_table = np.concatenate((input_table, all_kmers), axis=1)\n",
    "        input_table = input_table[~np.all(input_table[:, 4:] == 0, axis=1)]\n",
    "        return pd.DataFrame(input_table)\n",
    "    else:\n",
    "        return pd.DataFrame(columns = list(range(5+4**k)))"
   ]
  },
  {
   "cell_type": "code",
   "execution_count": null,
   "metadata": {},
   "outputs": [],
   "source": [
    "def make_test_sets (contact_data_table, redc_table):\n",
    "    contacts = pd.read_table(contact_data_table, sep='\\t')\n",
    "    contacts = contacts.astype({\"pval\": float, 'contacts_count': int, 'rnaseq_count': int, 'zscore': float})\n",
    "    redc = pd.read_table(redc_table, sep='\\t')\n",
    "    contacts = pd.merge(left=contacts, right=redc[['id', 'is_translate', 'rna_chr', 'rna_bgn', 'rna_end', 'dna_bgn', 'dna_end', 'dna_chr', 'rna_strand', 'dna_strand']], left_on='id', right_on='id', how ='inner')\n",
    "    del redc\n",
    "    contacts = contacts[contacts['is_translate']==0].reset_index()\n",
    "    #contacts = contacts[contacts['rna_chr']!=contacts['dna_chr']]\n",
    "    contacts['class'] = 0\n",
    "    return contacts"
   ]
  },
  {
   "cell_type": "code",
   "execution_count": null,
   "metadata": {},
   "outputs": [],
   "source": [
    "def all_test_tables(chr_seq, contact_data_table, redc_table, k):\n",
    "    chr_cont = make_test_sets(contact_data_table,  redc_table)\n",
    "    kmer = sequence_process_rna(chr_seq, k, chr_cont[['id', 'rna_bgn', 'rna_end', 'rna_strand', 'gene_type']])\n",
    "    return chr_cont, kmer"
   ]
  },
  {
   "cell_type": "code",
   "execution_count": null,
   "metadata": {
    "scrolled": false
   },
   "outputs": [],
   "source": [
    "all_proc_test = Pool(processes = 24)\n",
    "all_data = all_proc_test.starmap(all_test_tables, [('%s/%s.fna' % (sequence_path, i), '%s/%s_full_%s.pvalue.tab.gene.txt' % (cont_data_path, i, cell_type), '%s/%s_%s.tsv' % (cont_data_path, i, experiment), k) for i in chr_names])\n",
    "all_proc_test.close()\n",
    "all_proc_test.join()"
   ]
  },
  {
   "cell_type": "code",
   "execution_count": null,
   "metadata": {},
   "outputs": [],
   "source": [
    "all_contacts = pd.concat([i[0] for i in all_data], ignore_index = True)\n",
    "all_kmers = pd.concat([i[1] for i in all_data], ignore_index = True)"
   ]
  },
  {
   "cell_type": "code",
   "execution_count": null,
   "metadata": {},
   "outputs": [],
   "source": [
    "all_kmers = all_kmers.to_numpy()\n",
    "full_kmers = xgb.DMatrix(all_kmers[:, 5:])"
   ]
  },
  {
   "cell_type": "code",
   "execution_count": null,
   "metadata": {},
   "outputs": [],
   "source": [
    "for modelname in modelnames_clusters:\n",
    "    if not modelname:\n",
    "        continue\n",
    "    bst = xgb.Booster({'nthread': 10})\n",
    "    bst.load_model('/home/pitikovegor/CourseWork/genomes/models/%s' % modelname) \n",
    "    preds = bst.predict(full_kmers)\n",
    "    preds = np.concatenate((all_kmers[:, 0][:, np.newaxis],  preds), axis=1)\n",
    "    preds.tofile(f'{cont_data_path}/{modelname}.tsv', sep = '\\t')\n",
    "    \n",
    "    \n",
    "    "
   ]
  },
  {
   "cell_type": "code",
   "execution_count": null,
   "metadata": {},
   "outputs": [],
   "source": [
    "for modelname in modelnames_trpr:\n",
    "    if not modelname:\n",
    "        continue\n",
    "    bst = xgb.Booster({'nthread': 10})\n",
    "    bst.load_model('/home/pitikovegor/CourseWork/genomes/models/%s' % modelname) \n",
    "    preds = bst.predict(full_kmers)\n",
    "    preds = np.concatenate((all_kmers[:, 0][:, np.newaxis],  preds), axis=1)\n",
    "    preds.tofile(f'{cont_data_path}/{modelname}.tsv', sep = '\\t')"
   ]
  },
  {
   "cell_type": "code",
   "execution_count": null,
   "metadata": {},
   "outputs": [],
   "source": []
  },
  {
   "cell_type": "code",
   "execution_count": null,
   "metadata": {},
   "outputs": [],
   "source": []
  },
  {
   "cell_type": "code",
   "execution_count": null,
   "metadata": {},
   "outputs": [],
   "source": []
  },
  {
   "cell_type": "code",
   "execution_count": null,
   "metadata": {},
   "outputs": [],
   "source": []
  }
 ],
 "metadata": {
  "kernelspec": {
   "display_name": "Python 3",
   "language": "python",
   "name": "python3"
  },
  "language_info": {
   "codemirror_mode": {
    "name": "ipython",
    "version": 3
   },
   "file_extension": ".py",
   "mimetype": "text/x-python",
   "name": "python",
   "nbconvert_exporter": "python",
   "pygments_lexer": "ipython3",
   "version": "3.7.3"
  }
 },
 "nbformat": 4,
 "nbformat_minor": 2
}
