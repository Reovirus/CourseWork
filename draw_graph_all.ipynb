{
 "cells": [
  {
   "cell_type": "code",
   "execution_count": 17,
   "metadata": {},
   "outputs": [],
   "source": [
    "import pandas as pd\n",
    "import ray\n",
    "from multiprocessing import Process, Pipe\n",
    "import xgboost as xgb\n",
    "import numpy as np \n",
    "import sklearn\n",
    "from sklearn.metrics import mean_squared_error\n",
    "from sklearn.datasets import make_classification\n",
    "from sklearn.linear_model import LogisticRegression\n",
    "from sklearn.ensemble import (RandomTreesEmbedding, RandomForestClassifier, GradientBoostingClassifier)\n",
    "from sklearn.preprocessing import OneHotEncoder\n",
    "from sklearn.model_selection import train_test_split\n",
    "from sklearn.metrics import roc_curve\n",
    "from sklearn.pipeline import make_pipeline\n",
    "import tensorflow\n",
    "import matplotlib.pyplot as plt\n",
    "from sklearn.metrics import precision_score\n",
    "import matplotlib.gridspec as gridspec\n",
    "from kpal.klib import Profile\n",
    "from multiprocessing import Queue\n",
    "from multiprocessing import Process\n",
    "from Bio.Seq import Seq\n",
    "from Bio import SeqIO\n",
    "from multiprocessing import Pool, freeze_support\n",
    "import math\n",
    "import seaborn as sns"
   ]
  },
  {
   "cell_type": "code",
   "execution_count": 18,
   "metadata": {},
   "outputs": [],
   "source": [
    "cell_type = 'K562'\n",
    "mod_id = 'GSM4041595_K562_rep2.hg38'\n",
    "k = 4\n",
    "window = 600"
   ]
  },
  {
   "cell_type": "code",
   "execution_count": 19,
   "metadata": {},
   "outputs": [],
   "source": [
    "cont_data_path = f'/home/pitikovegor/CourseWork/genomes/reds_experiments/{cell_type}/all_parsed/'\n",
    "sequence_path = '/home/pitikovegor/CourseWork/genomes/chr_sequence'\n",
    "cluster_rna_path = '/home/pitikovegor/CourseWork/genomes/reds_experiments/K562/rna_clusters.bed'\n",
    "cluster_dna_path = '/home/pitikovegor/CourseWork/genomes/reds_experiments/K562/dna_clusters.bed'\n",
    "cont_wet_all_path = f'/home/pitikovegor/CourseWork/genomes/reds_experiments/{cell_type}/{cell_type}_all_contacts.tsv'\n",
    "window = 500\n",
    "\n",
    "chr_names=['chrX', 'chrY']\n",
    "for i in range(1, 23):\n",
    "    chr_names.append('chr%d' % (i))"
   ]
  },
  {
   "cell_type": "code",
   "execution_count": 20,
   "metadata": {},
   "outputs": [],
   "source": [
    "alpha = 0.05"
   ]
  },
  {
   "cell_type": "code",
   "execution_count": 21,
   "metadata": {},
   "outputs": [],
   "source": [
    "def open_table(tablename):\n",
    "    #print(tablename)\n",
    "    result = pd.read_csv(tablename, sep = '\\t')\n",
    "    #print('I read it!!!!!!!!')\n",
    "    return result"
   ]
  },
  {
   "cell_type": "code",
   "execution_count": null,
   "metadata": {},
   "outputs": [],
   "source": [
    "contacts = pd.read_csv(cont_wet_all_path, sep = '\\t')"
   ]
  },
  {
   "cell_type": "code",
   "execution_count": null,
   "metadata": {},
   "outputs": [],
   "source": [
    "contacts"
   ]
  },
  {
   "cell_type": "code",
   "execution_count": null,
   "metadata": {},
   "outputs": [],
   "source": [
    "dna_clus = pd.read_csv(cluster_dna_path, sep = '\\t', header=0, names = ['chr', 'start', 'end', 'id', 'cluster'])\n",
    "cl_dna_count = pd.DataFrame(dna_clus.groupby(by = 'cluster').size()).reset_index()\n",
    "display(cl_dna_count.sort_values(by = [0]))\n",
    "print(cl_dna_count.loc[:, 0].quantile(1 - alpha))"
   ]
  },
  {
   "cell_type": "code",
   "execution_count": null,
   "metadata": {},
   "outputs": [],
   "source": [
    "rna_clus = pd.read_csv(cluster_rna_path, sep = '\\t', header=0, names = ['chr', 'start', 'end', 'id', 'cluster'])\n",
    "cl_rna_count = pd.DataFrame(rna_clus.groupby(by = 'cluster').size()).reset_index()\n",
    "display(cl_rna_count.sort_values(by = [0]))\n",
    "cl_rna_count.loc[:, 0].quantile(1 - alpha)"
   ]
  },
  {
   "cell_type": "code",
   "execution_count": null,
   "metadata": {},
   "outputs": [],
   "source": [
    "plt.rcParams['axes.titlesize'] = 8\n",
    "fig = plt.figure(1, figsize=(15, 30))\n",
    "gs = gridspec.GridSpec(2, 1)\n",
    "ax0 = fig.add_subplot(gs[0, :])\n",
    "spec = plt.hist(cl_rna_count.loc[:, 0], bins = 1000)\n",
    "ax0.set_ylabel('Number')\n",
    "ax0.set_title('Specific by classes', fontsize=20)\n",
    "ax0.set_xticks(np.arange(2, cl_rna_count.loc[:, 0].max()))\n",
    "#ax0.set_xticklabels(means.keys(), rotation=45,  ha=\"right\", position=(0, 0))\n",
    "#ax0.legend()\n",
    "ax1 = fig.add_subplot(gs[1, :])\n",
    "nonspec = plt.hist(cl_dna_count.loc[:, 0], bins = 1000)\n",
    "#nonspec = sns.histplot(data=all_contacts, x=\"clus_count_rna\", kde=True)\n",
    "ax1.set_ylabel('Number')\n",
    "ax1.set_title('Nonspecific by classes', fontsize=20)\n",
    "#ax1.set_xticks(np.arange(len(means.keys())))\n",
    "#ax1.set_xticklabels(means.keys(), rotation=45,  ha=\"right\", position=(0, 0))\n",
    "#ax1.legend()\n",
    "#plt.subplots_adjust(wspace=0.1, hspace=1)\n",
    "#plt.savefig('/Users/pitikov_egor/Documents/CourseWork/genomes/pictures/Models/%s_coninfo.png' % modelname)\n",
    "plt.show()\n"
   ]
  },
  {
   "cell_type": "code",
   "execution_count": null,
   "metadata": {},
   "outputs": [],
   "source": []
  }
 ],
 "metadata": {
  "kernelspec": {
   "display_name": "Python 3",
   "language": "python",
   "name": "python3"
  }
 },
 "nbformat": 4,
 "nbformat_minor": 2
}
