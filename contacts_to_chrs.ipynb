{
 "cells": [
  {
   "cell_type": "markdown",
   "metadata": {},
   "source": [
    "# Первый скрипт. Бьет данные по контактам на хромосомы по РНК"
   ]
  },
  {
   "cell_type": "markdown",
   "metadata": {},
   "source": [
    "Полное дерево директорий. Описано в доке."
   ]
  },
  {
   "cell_type": "code",
   "execution_count": 1,
   "metadata": {
    "scrolled": true
   },
   "outputs": [
    {
     "ename": "NameError",
     "evalue": "name 'subprocess' is not defined",
     "output_type": "error",
     "traceback": [
      "\u001b[0;31m---------------------------------------------------------------------------\u001b[0m",
      "\u001b[0;31mNameError\u001b[0m                                 Traceback (most recent call last)",
      "\u001b[0;32m<ipython-input-1-cb053b7e9f6b>\u001b[0m in \u001b[0;36m<module>\u001b[0;34m\u001b[0m\n\u001b[0;32m----> 1\u001b[0;31m \u001b[0msubprocess\u001b[0m\u001b[0;34m.\u001b[0m\u001b[0mcall\u001b[0m\u001b[0;34m(\u001b[0m\u001b[0;34m'mkdir -p genomes/{Annotation/chr_features_hg_38, chr_sequence/chr_sequence, normalisation_data/{Fibro, K562}, reds_experiments}'\u001b[0m\u001b[0;34m,\u001b[0m \u001b[0mshell\u001b[0m \u001b[0;34m=\u001b[0m \u001b[0;32mTrue\u001b[0m\u001b[0;34m)\u001b[0m\u001b[0;34m\u001b[0m\u001b[0;34m\u001b[0m\u001b[0m\n\u001b[0m",
      "\u001b[0;31mNameError\u001b[0m: name 'subprocess' is not defined"
     ]
    }
   ],
   "source": [
    "subprocess.call('mkdir -p genomes/{Annotation/chr_features_hg_38, chr_sequence/chr_sequence, normalisation_data/{Fibro, K562}, reds_experiments}', shell = True)"
   ]
  },
  {
   "cell_type": "code",
   "execution_count": 1,
   "metadata": {},
   "outputs": [],
   "source": [
    "import pandas as pd\n",
    "import requests\n",
    "import io\n",
    "from multiprocessing import Queue\n",
    "from multiprocessing import Process\n",
    "import subprocess \n",
    "from gtfparse import read_gtf\n",
    "import time"
   ]
  },
  {
   "cell_type": "markdown",
   "metadata": {},
   "source": [
    "Прописываются пути (через эксперимент и тип клеток)"
   ]
  },
  {
   "cell_type": "code",
   "execution_count": 18,
   "metadata": {},
   "outputs": [],
   "source": [
    "experiment = 'GSM4041595_K562_rep2.hg38'\n",
    "cell_type = 'K562'"
   ]
  },
  {
   "cell_type": "code",
   "execution_count": 19,
   "metadata": {},
   "outputs": [],
   "source": [
    "table_name = '%s.tsv' % experiment\n",
    "table_dir = '/Users/pitikov_egor/Documents/CourseWork/genomes/reds_experiments/%s/' % cell_type"
   ]
  },
  {
   "cell_type": "markdown",
   "metadata": {},
   "source": [
    "Тут хранятся порезанные таблички по хромосомам"
   ]
  },
  {
   "cell_type": "code",
   "execution_count": 20,
   "metadata": {
    "scrolled": true
   },
   "outputs": [
    {
     "data": {
      "text/plain": [
       "1"
      ]
     },
     "execution_count": 20,
     "metadata": {},
     "output_type": "execute_result"
    }
   ],
   "source": [
    "subprocess.call('mkdir %sparsed_contacts_%s' %(table_dir, table_name[:-4]), shell = True)"
   ]
  },
  {
   "cell_type": "markdown",
   "metadata": {},
   "source": [
    "Данная функция открывает файл для записи и пишет туда старт, стоп и цепь всего контакта, не по 5' и 3' частям? а также в is_translate 1, если менее 50 нуклеотидов разниуа между контактом со стороны рнк и днк независимо от цепей (призвано отсеивать то, что почти наверняка только синтезировалост и поэтому свзалось - мб оасширить окно???).\n",
    "\n",
    "Данные берет их очереди, куда будут докладываться контакты по мере чтения общей таблтцы основной программой.\n",
    "\n",
    "Как старт берет наименьший из стартов на 5' и 3' концах, как стоп - нибольший стоп - это оказалось быстрее, чем проаисывать условтя для цери рнк. Как цепь колонку 5' у рнк - вроде должна с ней совпадать\n",
    "\n",
    "Да, это можно загнать в awk, но оно и так не то, чтобы медленное и я боюсь лажи с awk."
   ]
  },
  {
   "cell_type": "code",
   "execution_count": 21,
   "metadata": {
    "code_folding": [],
    "run_control": {
     "marked": true
    }
   },
   "outputs": [],
   "source": [
    "def open_cut(outfile_name, contact_queue):\n",
    "    output = open(outfile_name, 'w+')\n",
    "    output.write('%s\\t%s\\t%s\\t%s\\t%s\\t%s\\t%s\\t%s\\t%s\\t%s\\n' % ('id', 'rna_chr', 'rna_bgn', 'rna_end', 'rna_strand', 'dna_chr', 'dna_bgn', 'dna_end', 'dna_strand', 'is_translate'))\n",
    "    while True:\n",
    "        contact_data = contact_queue.get()\n",
    "        translate_status = 0\n",
    "        if type(contact_data)==type(False):\n",
    "            break\n",
    "        if (contact_data[1]==contact_data[11]) and (abs(min(int(contact_data[2]), int(contact_data[7])) - int(contact_data[12]))<=500000) and (abs(max(int(contact_data[3]), int(contact_data[8])) - int(contact_data[13]))<=500000):\n",
    "            translate_status = 1\n",
    "        output.write('%s\\t%s\\t%s\\t%s\\t%s\\t%s\\t%s\\t%s\\t%s\\t%s\\n' % (contact_data[0], contact_data[1], min(int(contact_data[2]), int(contact_data[7])), max(int(contact_data[3]), int(contact_data[8])), contact_data[9], contact_data[11], contact_data[12], contact_data[13], contact_data[14], translate_status))\n",
    "    output.close()\n",
    "    "
   ]
  },
  {
   "cell_type": "markdown",
   "metadata": {},
   "source": [
    "Делает массив с именами хромосом, очередь и процесс на каждую хромосому. Целевая для процесса open_cut, в качестве агументнов очередь на данную хромосому"
   ]
  },
  {
   "cell_type": "code",
   "execution_count": 22,
   "metadata": {},
   "outputs": [],
   "source": [
    "chr_names=['chrMT', 'chrX', 'chrY']\n",
    "for i in range(1, 23):\n",
    "    chr_names.append('chr%d' % (i))\n",
    "\n",
    "    \n",
    "\n",
    "    \n",
    "    \n",
    "if __name__ == '__main__':\n",
    "    for x in chr_names: \n",
    "        globals()['queue_%s' % x] = Queue()\n",
    "        globals()['process_%s' % x] = Process(target=open_cut, args=('%sparsed_contacts_%s/%s_%s' % (table_dir, table_name[:-4], x, table_name), eval('queue_%s' % x)), name=x)\n",
    "        eval('process_%s' % x).start()"
   ]
  },
  {
   "cell_type": "code",
   "execution_count": 23,
   "metadata": {},
   "outputs": [],
   "source": [
    "redc_table = open(table_dir + table_name, 'r')"
   ]
  },
  {
   "cell_type": "markdown",
   "metadata": {},
   "source": [
    "Построчно читает таблицу с контактами, в зависимости от хромосомы рнк  контакте пинает в нужную очередь, очрежи уже обрабатываются запущеннвыми выше функциями.\n",
    "\n",
    "P. S. В табдицах разный разделителт в заголовек и в таблице - это норма?"
   ]
  },
  {
   "cell_type": "code",
   "execution_count": 24,
   "metadata": {},
   "outputs": [],
   "source": [
    "line = redc_table.readline()\n",
    "\n",
    "\n",
    "if __name__ == '__main__':\n",
    "    while line:\n",
    "        line = redc_table.readline()\n",
    "        if line!='':\n",
    "            splitsrtring = str(line).split(' ')\n",
    "            eval('queue_%s' % splitsrtring[1]).put(splitsrtring)\n",
    "\n",
    "    for x in chr_names:\n",
    "        eval('queue_%s' % x).put(False)\n",
    "    for x in chr_names:\n",
    "        eval('process_%s' % x).join()\n",
    "\n"
   ]
  },
  {
   "cell_type": "code",
   "execution_count": 25,
   "metadata": {},
   "outputs": [],
   "source": [
    "redc_table.close()"
   ]
  },
  {
   "cell_type": "code",
   "execution_count": null,
   "metadata": {},
   "outputs": [],
   "source": []
  },
  {
   "cell_type": "code",
   "execution_count": null,
   "metadata": {},
   "outputs": [],
   "source": []
  }
 ],
 "metadata": {
  "kernelspec": {
   "display_name": "Python 3",
   "language": "python",
   "name": "python3"
  },
  "language_info": {
   "codemirror_mode": {
    "name": "ipython",
    "version": 3
   },
   "file_extension": ".py",
   "mimetype": "text/x-python",
   "name": "python",
   "nbconvert_exporter": "python",
   "pygments_lexer": "ipython3",
   "version": "3.7.4"
  }
 },
 "nbformat": 4,
 "nbformat_minor": 2
}
